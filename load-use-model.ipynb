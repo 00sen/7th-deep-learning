{
 "cells": [
  {
   "cell_type": "markdown",
   "metadata": {},
   "source": [
    "# Load and use model\n",
    "## Luis Arturo\n",
    "### A01703572"
   ]
  },
  {
   "cell_type": "code",
   "execution_count": 1,
   "metadata": {},
   "outputs": [],
   "source": [
    "import torch\n",
    "import torch.nn as nn\n",
    "from IPython.display import clear_output\n",
    "import re"
   ]
  },
  {
   "cell_type": "code",
   "execution_count": 2,
   "metadata": {},
   "outputs": [],
   "source": [
    "device = torch.device('cuda' if torch.cuda.is_available() else 'cpu')"
   ]
  },
  {
   "cell_type": "code",
   "execution_count": 4,
   "metadata": {},
   "outputs": [],
   "source": [
    "class GameRatingModel(nn.Module):\n",
    "    def __init__(self, vocab_size, embedding_dim, max_length, num_features, num_classes):\n",
    "        super().__init__()\n",
    "        self.embedding = nn.Embedding(vocab_size, embedding_dim)\n",
    "        self.flat_embed_size = max_length * embedding_dim\n",
    "        \n",
    "        self.numeric_layer = nn.Sequential(\n",
    "            nn.Linear(num_features, 64),\n",
    "            nn.ReLU(),\n",
    "            nn.BatchNorm1d(64)\n",
    "        )\n",
    "        \n",
    "        self.combined_layers = nn.Sequential(\n",
    "            nn.Linear(self.flat_embed_size + 64, 128),\n",
    "            nn.ReLU(),\n",
    "            nn.Dropout(0.3),\n",
    "            nn.BatchNorm1d(128),\n",
    "            \n",
    "            nn.Linear(128, 64),\n",
    "            nn.ReLU(),\n",
    "            nn.Dropout(0.2),\n",
    "            nn.BatchNorm1d(64),\n",
    "            \n",
    "            nn.Linear(64, num_classes)\n",
    "        )\n",
    "        \n",
    "    def forward(self, sequences, features):\n",
    "        embedded = self.embedding(sequences)\n",
    "        flat_embedded = embedded.view(embedded.size(0), -1)\n",
    "        numeric_out = self.numeric_layer(features)\n",
    "        combined = torch.cat((flat_embedded, numeric_out), dim=1)\n",
    "        return self.combined_layers(combined)"
   ]
  },
  {
   "cell_type": "code",
   "execution_count": 5,
   "metadata": {},
   "outputs": [
    {
     "name": "stderr",
     "output_type": "stream",
     "text": [
      "/tmp/ipykernel_19026/3050004469.py:9: FutureWarning: You are using `torch.load` with `weights_only=False` (the current default value), which uses the default pickle module implicitly. It is possible to construct malicious pickle data which will execute arbitrary code during unpickling (See https://github.com/pytorch/pytorch/blob/main/SECURITY.md#untrusted-models for more details). In a future release, the default value for `weights_only` will be flipped to `True`. This limits the functions that could be executed during unpickling. Arbitrary objects will no longer be allowed to be loaded via this mode unless they are explicitly allowlisted by the user via `torch.serialization.add_safe_globals`. We recommend you start setting `weights_only=True` for any use case where you don't have full control of the loaded file. Please open an issue on GitHub for any issues related to this experimental feature.\n",
      "  model.load_state_dict(torch.load('models/first-model.pth'))\n"
     ]
    }
   ],
   "source": [
    "model = GameRatingModel(\n",
    "    vocab_size=10000,\n",
    "    embedding_dim=32,\n",
    "    max_length=10,\n",
    "    num_features=14,\n",
    "    num_classes=9\n",
    ").to(device)\n",
    "\n",
    "model.load_state_dict(torch.load('models/first-model.pth'))\n",
    "model.eval()\n",
    "\n",
    "# 3. Definir las clases de rating\n",
    "rating_classes = [\n",
    "    'Negative',\n",
    "    'Mixed',\n",
    "    'Mostly Negative',\n",
    "    'Mostly Positive',\n",
    "    'Overwhelmingly Negative',\n",
    "    'Overwhelmingly Positive',\n",
    "    'Positive',\n",
    "    'Very Negative',\n",
    "    'Very Positive'\n",
    "]"
   ]
  },
  {
   "cell_type": "code",
   "execution_count": 6,
   "metadata": {},
   "outputs": [],
   "source": [
    "def clean_title(title):\n",
    "    title = title.lower()\n",
    "    title = re.sub(r'[^\\w\\s]', ' ', title)\n",
    "    return ' '.join(title.split())"
   ]
  },
  {
   "cell_type": "code",
   "execution_count": 7,
   "metadata": {},
   "outputs": [],
   "source": [
    "def predict_game_rating(title, price, win, mac, linux, steam_deck, days_market, avg_hours, avg_helpful):\n",
    "    # Preparar inputs\n",
    "    sequence = torch.zeros((1, 10), dtype=torch.long).to(device)  # Dummy sequence\n",
    "    \n",
    "    features = torch.tensor([[\n",
    "        price, price, 0,  # price_final, price_original, discount\n",
    "        win, mac, linux, steam_deck,\n",
    "        days_market,\n",
    "        avg_hours, avg_hours/2, avg_hours/2,  # avg_hours, median_hours, std_hours\n",
    "        0.5, avg_helpful, 0  # recommendation_ratio, avg_helpful, avg_funny\n",
    "    ]], dtype=torch.float32).to(device)\n",
    "    \n",
    "    # Hacer predicción\n",
    "    with torch.no_grad():\n",
    "        outputs = model(sequence, features)\n",
    "        probabilities = torch.softmax(outputs, dim=1)\n",
    "        _, predicted = torch.max(outputs, 1)\n",
    "    \n",
    "    # Retornar resultados\n",
    "    return rating_classes[predicted.item()], {rating_classes[i]: prob.item() for i, prob in enumerate(probabilities[0])}\n"
   ]
  },
  {
   "cell_type": "code",
   "execution_count": 8,
   "metadata": {},
   "outputs": [],
   "source": [
    "def predict_interactive():\n",
    "    print(\"Enter game information:\")\n",
    "    title = input(\"Game title: \")\n",
    "    price = float(input(\"Price (USD): \"))\n",
    "    win = int(input(\"Windows compatible? (1/0): \"))\n",
    "    mac = int(input(\"Mac compatible? (1/0): \"))\n",
    "    linux = int(input(\"Linux compatible? (1/0): \"))\n",
    "    steam_deck = int(input(\"Steam Deck compatible? (1/0): \"))\n",
    "    days_market = int(input(\"Days in market: \"))\n",
    "    avg_hours = float(input(\"Average play hours: \"))\n",
    "    avg_helpful = float(input(\"Average helpful votes: \"))\n",
    "    \n",
    "    rating, probs = predict_game_rating(\n",
    "        title, price, win, mac, linux, \n",
    "        steam_deck, days_market, avg_hours, avg_helpful\n",
    "    )\n",
    "    \n",
    "    clear_output()\n",
    "    print(f\"\\nPrediction for '{title}':\")\n",
    "    print(f\"Predicted rating: {rating}\")\n",
    "    print(\"\\nProbabilities for each rating:\")\n",
    "    for rating, prob in sorted(probs.items(), key=lambda x: x[1], reverse=True):\n",
    "        print(f\"{rating}: {prob*100:.2f}%\")"
   ]
  },
  {
   "cell_type": "code",
   "execution_count": 9,
   "metadata": {},
   "outputs": [
    {
     "name": "stdout",
     "output_type": "stream",
     "text": [
      "\n",
      "Prediction for 'I like pupsicles':\n",
      "Predicted rating: Mostly Positive\n",
      "\n",
      "Probabilities for each rating:\n",
      "Mostly Positive: 100.00%\n",
      "Negative: 0.00%\n",
      "Mixed: 0.00%\n",
      "Mostly Negative: 0.00%\n",
      "Overwhelmingly Negative: 0.00%\n",
      "Overwhelmingly Positive: 0.00%\n",
      "Positive: 0.00%\n",
      "Very Negative: 0.00%\n",
      "Very Positive: 0.00%\n"
     ]
    }
   ],
   "source": [
    "while True:\n",
    "    predict_interactive()\n",
    "    if input(\"\\nPredict another game? (y/n): \").lower() != 'y':\n",
    "        break"
   ]
  },
  {
   "cell_type": "code",
   "execution_count": null,
   "metadata": {},
   "outputs": [],
   "source": []
  }
 ],
 "metadata": {
  "kernelspec": {
   "display_name": ".venv",
   "language": "python",
   "name": "python3"
  },
  "language_info": {
   "codemirror_mode": {
    "name": "ipython",
    "version": 3
   },
   "file_extension": ".py",
   "mimetype": "text/x-python",
   "name": "python",
   "nbconvert_exporter": "python",
   "pygments_lexer": "ipython3",
   "version": "3.12.3"
  }
 },
 "nbformat": 4,
 "nbformat_minor": 2
}
