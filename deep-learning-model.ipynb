{
 "cells": [
  {
   "cell_type": "markdown",
   "metadata": {},
   "source": [
    "# Deep Learning Model\n",
    "## Luis Arturo\n",
    "### A01703572"
   ]
  },
  {
   "cell_type": "markdown",
   "metadata": {},
   "source": [
    "# Conexión a GPU local"
   ]
  },
  {
   "cell_type": "code",
   "execution_count": 1,
   "metadata": {},
   "outputs": [
    {
     "name": "stderr",
     "output_type": "stream",
     "text": [
      "2024-10-31 19:02:10.500564: I tensorflow/core/util/port.cc:153] oneDNN custom operations are on. You may see slightly different numerical results due to floating-point round-off errors from different computation orders. To turn them off, set the environment variable `TF_ENABLE_ONEDNN_OPTS=0`.\n",
      "2024-10-31 19:02:10.508051: E external/local_xla/xla/stream_executor/cuda/cuda_fft.cc:477] Unable to register cuFFT factory: Attempting to register factory for plugin cuFFT when one has already been registered\n",
      "WARNING: All log messages before absl::InitializeLog() is called are written to STDERR\n",
      "E0000 00:00:1730422930.517602   11685 cuda_dnn.cc:8310] Unable to register cuDNN factory: Attempting to register factory for plugin cuDNN when one has already been registered\n",
      "E0000 00:00:1730422930.520336   11685 cuda_blas.cc:1418] Unable to register cuBLAS factory: Attempting to register factory for plugin cuBLAS when one has already been registered\n",
      "2024-10-31 19:02:10.529913: I tensorflow/core/platform/cpu_feature_guard.cc:210] This TensorFlow binary is optimized to use available CPU instructions in performance-critical operations.\n",
      "To enable the following instructions: AVX2 AVX_VNNI FMA, in other operations, rebuild TensorFlow with the appropriate compiler flags.\n"
     ]
    }
   ],
   "source": [
    "import setuptools\n",
    "import tensorflow as tf\n",
    "import pandas as pd\n",
    "import os"
   ]
  },
  {
   "cell_type": "code",
   "execution_count": 2,
   "metadata": {},
   "outputs": [
    {
     "name": "stdout",
     "output_type": "stream",
     "text": [
      "TensorFlow version: 2.18.0\n",
      "\n",
      "CUDA available: True\n",
      "\n",
      "Available devices:\n",
      "  CPU: /physical_device:CPU:0\n",
      "\n",
      "✅ Successfully performed computation on GPU!\n",
      "Matrix multiplication shape: (1000, 1000)\n",
      "\n",
      "❌ No GPU devices found\n"
     ]
    },
    {
     "name": "stderr",
     "output_type": "stream",
     "text": [
      "W0000 00:00:1730422933.051171   11685 gpu_device.cc:2344] Cannot dlopen some GPU libraries. Please make sure the missing libraries mentioned above are installed properly if you would like to use GPU. Follow the guide at https://www.tensorflow.org/install/gpu for how to download and setup the required libraries for your platform.\n",
      "Skipping registering GPU devices...\n"
     ]
    }
   ],
   "source": [
    "def verify_gpu_setup():\n",
    "    \"\"\"Comprehensive verification of TensorFlow GPU setup\"\"\"\n",
    "    # Print TensorFlow version\n",
    "    print(f\"TensorFlow version: {tf.__version__}\")\n",
    "    \n",
    "    # Check CUDA availability\n",
    "    print(\"\\nCUDA available:\", tf.test.is_built_with_cuda())\n",
    "    \n",
    "    # List all available GPUs\n",
    "    physical_devices = tf.config.list_physical_devices()\n",
    "    print(\"\\nAvailable devices:\")\n",
    "    for device in physical_devices:\n",
    "        print(f\"  {device.device_type}: {device.name}\")\n",
    "    \n",
    "    # Check if GPU is available and perform a simple computation\n",
    "    if tf.test.is_built_with_cuda():\n",
    "        try:\n",
    "            # Create some random data\n",
    "            with tf.device('/GPU:0'):\n",
    "                a = tf.random.normal([1000, 1000])\n",
    "                b = tf.random.normal([1000, 1000])\n",
    "                # Perform matrix multiplication\n",
    "                c = tf.matmul(a, b)\n",
    "                # Force execution\n",
    "                result = c.numpy()\n",
    "                print(\"\\n✅ Successfully performed computation on GPU!\")\n",
    "                print(f\"Matrix multiplication shape: {result.shape}\")\n",
    "        except Exception as e:\n",
    "            print(\"\\n❌ Error during GPU computation:\")\n",
    "            print(e)\n",
    "    else:\n",
    "        print(\"\\n❌ CUDA is not available in this TensorFlow installation\")\n",
    "\n",
    "    # Print GPU memory info\n",
    "    try:\n",
    "        gpu = tf.config.list_physical_devices('GPU')[0]\n",
    "        print(\"\\nGPU Device:\", gpu)\n",
    "    except IndexError:\n",
    "        print(\"\\n❌ No GPU devices found\")\n",
    "\n",
    "verify_gpu_setup()"
   ]
  },
  {
   "cell_type": "code",
   "execution_count": 3,
   "metadata": {},
   "outputs": [],
   "source": [
    "# Set TF logging level to avoid unnecessary messages\n",
    "os.environ['TF_CPP_MIN_LOG_LEVEL'] = '2'"
   ]
  },
  {
   "cell_type": "markdown",
   "metadata": {},
   "source": [
    "# ETL"
   ]
  },
  {
   "cell_type": "markdown",
   "metadata": {},
   "source": [
    "### Carga de datos"
   ]
  },
  {
   "cell_type": "code",
   "execution_count": 4,
   "metadata": {},
   "outputs": [],
   "source": [
    "# Configuración para mostrar todas las columnas\n",
    "pd.set_option('display.max_columns', None)\n",
    "pd.set_option('display.width', None)"
   ]
  },
  {
   "cell_type": "code",
   "execution_count": 5,
   "metadata": {},
   "outputs": [
    {
     "name": "stdout",
     "output_type": "stream",
     "text": [
      "=== CARGANDO DATASETS ===\n",
      "=== DATASETS CARGADOS ===\n"
     ]
    }
   ],
   "source": [
    "# 1. EXTRACT - Carga de datos\n",
    "print(\"=== CARGANDO DATASETS ===\")\n",
    "games_df = pd.read_csv('data/games.csv')\n",
    "users_df = pd.read_csv('data/users.csv')\n",
    "recommendations_df = pd.read_csv('data/recommendations.csv')\n",
    "\n",
    "print(\"=== DATASETS CARGADOS ===\")"
   ]
  },
  {
   "cell_type": "markdown",
   "metadata": {},
   "source": [
    "### Información general del dataset"
   ]
  },
  {
   "cell_type": "code",
   "execution_count": 9,
   "metadata": {},
   "outputs": [
    {
     "name": "stdout",
     "output_type": "stream",
     "text": [
      "\n",
      "Dimensiones del games_df: (50872, 13)\n",
      "\n",
      "Columnas disponibles del games_df:\n",
      "- app_id\n",
      "- title\n",
      "- date_release\n",
      "- win\n",
      "- mac\n",
      "- linux\n",
      "- rating\n",
      "- positive_ratio\n",
      "- user_reviews\n",
      "- price_final\n",
      "- price_original\n",
      "- discount\n",
      "- steam_deck\n"
     ]
    }
   ],
   "source": [
    "print(\"\\nDimensiones del games_df:\", games_df.shape)\n",
    "print(\"\\nColumnas disponibles del games_df:\")\n",
    "for col in games_df.columns:\n",
    "    print(f\"- {col}\")"
   ]
  },
  {
   "cell_type": "code",
   "execution_count": 10,
   "metadata": {},
   "outputs": [
    {
     "name": "stdout",
     "output_type": "stream",
     "text": [
      "\n",
      "Dimensiones del users_df: (14306064, 3)\n",
      "\n",
      "Columnas disponibles del users_df:\n",
      "- user_id\n",
      "- products\n",
      "- reviews\n"
     ]
    }
   ],
   "source": [
    "print(\"\\nDimensiones del users_df:\", users_df.shape)\n",
    "print(\"\\nColumnas disponibles del users_df:\")\n",
    "for col in users_df.columns:\n",
    "    print(f\"- {col}\")"
   ]
  },
  {
   "cell_type": "code",
   "execution_count": 11,
   "metadata": {},
   "outputs": [
    {
     "name": "stdout",
     "output_type": "stream",
     "text": [
      "\n",
      "Dimensiones del recommendations_df: (41154794, 8)\n",
      "\n",
      "Columnas disponibles del recommendations_df:\n",
      "- app_id\n",
      "- helpful\n",
      "- funny\n",
      "- date\n",
      "- is_recommended\n",
      "- hours\n",
      "- user_id\n",
      "- review_id\n"
     ]
    }
   ],
   "source": [
    "print(\"\\nDimensiones del recommendations_df:\", recommendations_df.shape)\n",
    "print(\"\\nColumnas disponibles del recommendations_df:\")\n",
    "for col in recommendations_df.columns:\n",
    "    print(f\"- {col}\")"
   ]
  },
  {
   "cell_type": "markdown",
   "metadata": {},
   "source": [
    "### Análisis inicial de games"
   ]
  },
  {
   "cell_type": "markdown",
   "metadata": {},
   "source": []
  },
  {
   "cell_type": "code",
   "execution_count": 12,
   "metadata": {},
   "outputs": [
    {
     "name": "stdout",
     "output_type": "stream",
     "text": [
      "\n",
      "Primeras 5 filas de games_df:\n",
      "   app_id                              title date_release   win    mac  linux  \\\n",
      "0   13500  Prince of Persia: Warrior Within™   2008-11-21  True  False  False   \n",
      "1   22364            BRINK: Agents of Change   2011-08-03  True  False  False   \n",
      "2  113020       Monaco: What's Yours Is Mine   2013-04-24  True   True   True   \n",
      "3  226560                 Escape Dead Island   2014-11-18  True  False  False   \n",
      "4  249050            Dungeon of the ENDLESS™   2014-10-27  True   True  False   \n",
      "\n",
      "          rating  positive_ratio  user_reviews  price_final  price_original  \\\n",
      "0  Very Positive              84          2199         9.99            9.99   \n",
      "1       Positive              85            21         2.99            2.99   \n",
      "2  Very Positive              92          3722        14.99           14.99   \n",
      "3          Mixed              61           873        14.99           14.99   \n",
      "4  Very Positive              88          8784        11.99           11.99   \n",
      "\n",
      "   discount  steam_deck  \n",
      "0       0.0        True  \n",
      "1       0.0        True  \n",
      "2       0.0        True  \n",
      "3       0.0        True  \n",
      "4       0.0        True  \n",
      "\n",
      "Información del dataset de juegos:\n",
      "<class 'pandas.core.frame.DataFrame'>\n",
      "RangeIndex: 50872 entries, 0 to 50871\n",
      "Data columns (total 13 columns):\n",
      " #   Column          Non-Null Count  Dtype  \n",
      "---  ------          --------------  -----  \n",
      " 0   app_id          50872 non-null  int64  \n",
      " 1   title           50872 non-null  object \n",
      " 2   date_release    50872 non-null  object \n",
      " 3   win             50872 non-null  bool   \n",
      " 4   mac             50872 non-null  bool   \n",
      " 5   linux           50872 non-null  bool   \n",
      " 6   rating          50872 non-null  object \n",
      " 7   positive_ratio  50872 non-null  int64  \n",
      " 8   user_reviews    50872 non-null  int64  \n",
      " 9   price_final     50872 non-null  float64\n",
      " 10  price_original  50872 non-null  float64\n",
      " 11  discount        50872 non-null  float64\n",
      " 12  steam_deck      50872 non-null  bool   \n",
      "dtypes: bool(4), float64(3), int64(3), object(3)\n",
      "memory usage: 3.7+ MB\n",
      "None\n",
      "\n",
      "Estadísticas descriptivas de games_df:\n",
      "             app_id  positive_ratio  user_reviews   price_final  \\\n",
      "count  5.087200e+04    50872.000000  5.087200e+04  50872.000000   \n",
      "mean   1.055224e+06       77.052033  1.824425e+03      8.620325   \n",
      "std    6.103249e+05       18.253592  4.007352e+04     11.514164   \n",
      "min    1.000000e+01        0.000000  1.000000e+01      0.000000   \n",
      "25%    5.287375e+05       67.000000  1.900000e+01      0.990000   \n",
      "50%    9.860850e+05       81.000000  4.900000e+01      4.990000   \n",
      "75%    1.524895e+06       91.000000  2.060000e+02     10.990000   \n",
      "max    2.599300e+06      100.000000  7.494460e+06    299.990000   \n",
      "\n",
      "       price_original      discount  \n",
      "count    50872.000000  50872.000000  \n",
      "mean         8.726788      5.592212  \n",
      "std         11.507021     18.606679  \n",
      "min          0.000000      0.000000  \n",
      "25%          0.990000      0.000000  \n",
      "50%          4.990000      0.000000  \n",
      "75%         11.990000      0.000000  \n",
      "max        299.990000     90.000000  \n",
      "\n",
      "Valores nulos en games_df:\n",
      "app_id            0\n",
      "title             0\n",
      "date_release      0\n",
      "win               0\n",
      "mac               0\n",
      "linux             0\n",
      "rating            0\n",
      "positive_ratio    0\n",
      "user_reviews      0\n",
      "price_final       0\n",
      "price_original    0\n",
      "discount          0\n",
      "steam_deck        0\n",
      "dtype: int64\n"
     ]
    }
   ],
   "source": [
    "print(\"\\nPrimeras 5 filas de games_df:\")\n",
    "print(games_df.head())\n",
    "print(\"\\nInformación del dataset de juegos:\")\n",
    "print(games_df.info())\n",
    "print(\"\\nEstadísticas descriptivas de games_df:\")\n",
    "print(games_df.describe())\n",
    "print(\"\\nValores nulos en games_df:\")\n",
    "print(games_df.isnull().sum())"
   ]
  },
  {
   "cell_type": "markdown",
   "metadata": {},
   "source": [
    "### Análisis inicial de users"
   ]
  },
  {
   "cell_type": "code",
   "execution_count": 13,
   "metadata": {},
   "outputs": [
    {
     "name": "stdout",
     "output_type": "stream",
     "text": [
      "\n",
      "Primeras 5 filas de users_df:\n",
      "    user_id  products  reviews\n",
      "0   7360263       359        0\n",
      "1  14020781       156        1\n",
      "2   8762579       329        4\n",
      "3   4820647       176        4\n",
      "4   5167327        98        2\n",
      "\n",
      "Información del dataset de usuarios:\n",
      "<class 'pandas.core.frame.DataFrame'>\n",
      "RangeIndex: 14306064 entries, 0 to 14306063\n",
      "Data columns (total 3 columns):\n",
      " #   Column    Dtype\n",
      "---  ------    -----\n",
      " 0   user_id   int64\n",
      " 1   products  int64\n",
      " 2   reviews   int64\n",
      "dtypes: int64(3)\n",
      "memory usage: 327.4 MB\n",
      "None\n",
      "\n",
      "Estadísticas descriptivas de users_df:\n",
      "            user_id      products       reviews\n",
      "count  1.430606e+07  1.430606e+07  1.430606e+07\n",
      "mean   7.153032e+06  1.163734e+02  2.876738e+00\n",
      "std    4.129805e+06  2.438515e+02  7.987421e+00\n",
      "min    0.000000e+00  0.000000e+00  0.000000e+00\n",
      "25%    3.576516e+06  2.300000e+01  1.000000e+00\n",
      "50%    7.153032e+06  5.500000e+01  1.000000e+00\n",
      "75%    1.072955e+07  1.270000e+02  3.000000e+00\n",
      "max    1.430606e+07  3.221400e+04  6.045000e+03\n",
      "\n",
      "Valores nulos en users_df:\n",
      "user_id     0\n",
      "products    0\n",
      "reviews     0\n",
      "dtype: int64\n"
     ]
    }
   ],
   "source": [
    "print(\"\\nPrimeras 5 filas de users_df:\")\n",
    "print(users_df.head())\n",
    "print(\"\\nInformación del dataset de usuarios:\")\n",
    "print(users_df.info())\n",
    "print(\"\\nEstadísticas descriptivas de users_df:\")\n",
    "print(users_df.describe())\n",
    "print(\"\\nValores nulos en users_df:\")\n",
    "print(users_df.isnull().sum())"
   ]
  },
  {
   "cell_type": "markdown",
   "metadata": {},
   "source": [
    "### Análisis inicial de recommendations"
   ]
  },
  {
   "cell_type": "code",
   "execution_count": 14,
   "metadata": {},
   "outputs": [
    {
     "name": "stdout",
     "output_type": "stream",
     "text": [
      "\n",
      "Primeras 5 filas de recommendations_df:\n",
      "    app_id  helpful  funny        date  is_recommended  hours  user_id  \\\n",
      "0   975370        0      0  2022-12-12            True   36.3    51580   \n",
      "1   304390        4      0  2017-02-17           False   11.5     2586   \n",
      "2  1085660        2      0  2019-11-17            True  336.5   253880   \n",
      "3   703080        0      0  2022-09-23            True   27.4   259432   \n",
      "4   526870        0      0  2021-01-10            True    7.9    23869   \n",
      "\n",
      "   review_id  \n",
      "0          0  \n",
      "1          1  \n",
      "2          2  \n",
      "3          3  \n",
      "4          4  \n",
      "\n",
      "Información del dataset de recomendaciones:\n",
      "<class 'pandas.core.frame.DataFrame'>\n",
      "RangeIndex: 41154794 entries, 0 to 41154793\n",
      "Data columns (total 8 columns):\n",
      " #   Column          Dtype  \n",
      "---  ------          -----  \n",
      " 0   app_id          int64  \n",
      " 1   helpful         int64  \n",
      " 2   funny           int64  \n",
      " 3   date            object \n",
      " 4   is_recommended  bool   \n",
      " 5   hours           float64\n",
      " 6   user_id         int64  \n",
      " 7   review_id       int64  \n",
      "dtypes: bool(1), float64(1), int64(5), object(1)\n",
      "memory usage: 2.2+ GB\n",
      "None\n",
      "\n",
      "Estadísticas descriptivas de recommendations_df:\n",
      "             app_id       helpful         funny         hours       user_id  \\\n",
      "count  4.115479e+07  4.115479e+07  4.115479e+07  4.115479e+07  4.115479e+07   \n",
      "mean   6.032724e+05  3.202567e+00  1.058071e+00  1.006022e+02  7.450576e+06   \n",
      "std    4.729233e+05  4.693649e+01  2.867060e+01  1.761675e+02  4.010685e+06   \n",
      "min    1.000000e+01  0.000000e+00  0.000000e+00  0.000000e+00  0.000000e+00   \n",
      "25%    2.539400e+05  0.000000e+00  0.000000e+00  7.800000e+00  4.287256e+06   \n",
      "50%    4.351500e+05  0.000000e+00  0.000000e+00  2.730000e+01  7.546446e+06   \n",
      "75%    9.331100e+05  0.000000e+00  0.000000e+00  9.920000e+01  1.096877e+07   \n",
      "max    2.253290e+06  3.621200e+04  2.810900e+04  1.000000e+03  1.430606e+07   \n",
      "\n",
      "          review_id  \n",
      "count  4.115479e+07  \n",
      "mean   2.057740e+07  \n",
      "std    1.188037e+07  \n",
      "min    0.000000e+00  \n",
      "25%    1.028870e+07  \n",
      "50%    2.057740e+07  \n",
      "75%    3.086609e+07  \n",
      "max    4.115479e+07  \n",
      "\n",
      "Valores nulos en recommendations_df:\n",
      "app_id            0\n",
      "helpful           0\n",
      "funny             0\n",
      "date              0\n",
      "is_recommended    0\n",
      "hours             0\n",
      "user_id           0\n",
      "review_id         0\n",
      "dtype: int64\n"
     ]
    }
   ],
   "source": [
    "print(\"\\nPrimeras 5 filas de recommendations_df:\")\n",
    "print(recommendations_df.head())\n",
    "print(\"\\nInformación del dataset de recomendaciones:\")\n",
    "print(recommendations_df.info())\n",
    "print(\"\\nEstadísticas descriptivas de recommendations_df:\")\n",
    "print(recommendations_df.describe())\n",
    "print(\"\\nValores nulos en recommendations_df:\")\n",
    "print(recommendations_df.isnull().sum())"
   ]
  },
  {
   "cell_type": "markdown",
   "metadata": {},
   "source": [
    "### Análisis expecífico de features importantes"
   ]
  },
  {
   "cell_type": "code",
   "execution_count": 15,
   "metadata": {},
   "outputs": [
    {
     "name": "stdout",
     "output_type": "stream",
     "text": [
      "\n",
      "Distribución de ratings en juegos:\n",
      "rating\n",
      "Positive                   13502\n",
      "Very Positive              13139\n",
      "Mixed                      12157\n",
      "Mostly Positive             8738\n",
      "Mostly Negative             1849\n",
      "Overwhelmingly Positive     1110\n",
      "Negative                     303\n",
      "Very Negative                 60\n",
      "Overwhelmingly Negative       14\n",
      "Name: count, dtype: int64\n"
     ]
    }
   ],
   "source": [
    "# Análisis de ratings\n",
    "print(\"\\nDistribución de ratings en juegos:\")\n",
    "print(games_df['rating'].value_counts())"
   ]
  },
  {
   "cell_type": "code",
   "execution_count": 16,
   "metadata": {},
   "outputs": [
    {
     "name": "stdout",
     "output_type": "stream",
     "text": [
      "\n",
      "Estadísticas de precios:\n",
      "        price_final  price_original\n",
      "count  50872.000000    50872.000000\n",
      "mean       8.620325        8.726788\n",
      "std       11.514164       11.507021\n",
      "min        0.000000        0.000000\n",
      "25%        0.990000        0.990000\n",
      "50%        4.990000        4.990000\n",
      "75%       10.990000       11.990000\n",
      "max      299.990000      299.990000\n"
     ]
    }
   ],
   "source": [
    "# Análisis de precios\n",
    "print(\"\\nEstadísticas de precios:\")\n",
    "print(games_df[['price_final', 'price_original']].describe())"
   ]
  },
  {
   "cell_type": "code",
   "execution_count": 17,
   "metadata": {},
   "outputs": [
    {
     "name": "stdout",
     "output_type": "stream",
     "text": [
      "\n",
      "Distribución de recomendaciones:\n",
      "is_recommended\n",
      "True     0.857844\n",
      "False    0.142156\n",
      "Name: proportion, dtype: float64\n"
     ]
    }
   ],
   "source": [
    "# Análisis de recomendaciones\n",
    "print(\"\\nDistribución de recomendaciones:\")\n",
    "print(recommendations_df['is_recommended'].value_counts(normalize=True))"
   ]
  },
  {
   "cell_type": "code",
   "execution_count": 18,
   "metadata": {},
   "outputs": [
    {
     "name": "stdout",
     "output_type": "stream",
     "text": [
      "\n",
      "Estadísticas de horas jugadas:\n",
      "count    4.115479e+07\n",
      "mean     1.006022e+02\n",
      "std      1.761675e+02\n",
      "min      0.000000e+00\n",
      "25%      7.800000e+00\n",
      "50%      2.730000e+01\n",
      "75%      9.920000e+01\n",
      "max      1.000000e+03\n",
      "Name: hours, dtype: float64\n"
     ]
    }
   ],
   "source": [
    "# Análisis de horas jugadas\n",
    "print(\"\\nEstadísticas de horas jugadas:\")\n",
    "print(recommendations_df['hours'].describe())"
   ]
  },
  {
   "cell_type": "markdown",
   "metadata": {},
   "source": [
    "### Verificamos la integridad de referencias entre los datasets\n",
    "Nos aseguramos de que los juegos y los usuarios referenciados en reseñas existen en el dataset de juegos y en el de usuarios"
   ]
  },
  {
   "cell_type": "code",
   "execution_count": 19,
   "metadata": {},
   "outputs": [
    {
     "name": "stdout",
     "output_type": "stream",
     "text": [
      "\n",
      "Juegos en recommendations pero no en games: 0\n"
     ]
    }
   ],
   "source": [
    "# Verificar si todos los app_id en recommendations existen en games\n",
    "games_apps = set(games_df['app_id'])\n",
    "recommendations_apps = set(recommendations_df['app_id'])\n",
    "print(\"\\nJuegos en recommendations pero no en games:\", len(recommendations_apps - games_apps))"
   ]
  },
  {
   "cell_type": "code",
   "execution_count": 20,
   "metadata": {},
   "outputs": [
    {
     "name": "stdout",
     "output_type": "stream",
     "text": [
      "Usuarios en recommendations pero no en users: 0\n"
     ]
    }
   ],
   "source": [
    "# Verificar si todos los user_id en recommendations existen en users\n",
    "users_ids = set(users_df['user_id'])\n",
    "recommendations_users = set(recommendations_df['user_id'])\n",
    "print(\"Usuarios en recommendations pero no en users:\", len(recommendations_users - users_ids))"
   ]
  },
  {
   "cell_type": "markdown",
   "metadata": {},
   "source": [
    "## Se va a crear un modelo capaz de predecir el rating que tendrá un juego (\"Very Positive\", \"Mixed\", etc.) \n",
    "## Son 9 clases \n",
    "- Positive                   13502\n",
    "- Very Positive              13139\n",
    "- Mixed                      12157\n",
    "- Mostly Positive             8738\n",
    "- Mostly Negative             1849\n",
    "- Overwhelmingly Positive     1110\n",
    "- Negative                     303\n",
    "- Very Negative                 60\n",
    "- Overwhelmingly Negative       14\n",
    "\n",
    "## Features de entrada\n",
    "- Precio\n",
    "- Plataformas soportadas (win, mac, linux)\n",
    "- Tiempo en el mercado\n",
    "- Descuentos\n",
    "- Métricas agregadas de reviews (horas promedio jugadas, ratio de recomendaciones)"
   ]
  },
  {
   "cell_type": "markdown",
   "metadata": {},
   "source": [
    "## Preprocesamiendo de los datos"
   ]
  },
  {
   "cell_type": "code",
   "execution_count": 23,
   "metadata": {},
   "outputs": [],
   "source": [
    "import numpy as np\n",
    "from sklearn.preprocessing import LabelEncoder, StandardScaler\n",
    "from sklearn.model_selection import train_test_split\n",
    "from tensorflow.keras.preprocessing.text import Tokenizer\n",
    "from tensorflow.keras.preprocessing.sequence import pad_sequences\n",
    "import tensorflow as tf\n",
    "import re"
   ]
  },
  {
   "cell_type": "markdown",
   "metadata": {},
   "source": []
  },
  {
   "cell_type": "code",
   "execution_count": null,
   "metadata": {},
   "outputs": [],
   "source": []
  }
 ],
 "metadata": {
  "kernelspec": {
   "display_name": ".venv",
   "language": "python",
   "name": "python3"
  },
  "language_info": {
   "codemirror_mode": {
    "name": "ipython",
    "version": 3
   },
   "file_extension": ".py",
   "mimetype": "text/x-python",
   "name": "python",
   "nbconvert_exporter": "python",
   "pygments_lexer": "ipython3",
   "version": "3.12.3"
  }
 },
 "nbformat": 4,
 "nbformat_minor": 2
}
