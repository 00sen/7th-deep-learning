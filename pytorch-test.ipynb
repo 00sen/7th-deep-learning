{
 "cells": [
  {
   "cell_type": "code",
   "execution_count": 1,
   "metadata": {},
   "outputs": [
    {
     "name": "stdout",
     "output_type": "stream",
     "text": [
      "tensor([[0.6138, 0.2845, 0.7877],\n",
      "        [0.7516, 0.8789, 0.1865],\n",
      "        [0.8341, 0.8231, 0.2623],\n",
      "        [0.3179, 0.8375, 0.2339],\n",
      "        [0.1191, 0.1967, 0.5338]])\n"
     ]
    }
   ],
   "source": [
    "import torch\n",
    "x = torch.rand(5, 3)\n",
    "print(x)\n"
   ]
  },
  {
   "cell_type": "code",
   "execution_count": 2,
   "metadata": {},
   "outputs": [
    {
     "data": {
      "text/plain": [
       "True"
      ]
     },
     "execution_count": 2,
     "metadata": {},
     "output_type": "execute_result"
    }
   ],
   "source": [
    "import torch\n",
    "torch.cuda.is_available()\n"
   ]
  },
  {
   "cell_type": "code",
   "execution_count": 3,
   "metadata": {},
   "outputs": [
    {
     "name": "stdout",
     "output_type": "stream",
     "text": [
      "Using device: cuda\n"
     ]
    }
   ],
   "source": [
    "device = torch.device(\"cuda\" if torch.cuda.is_available() else \"cpu\")\n",
    "print(f\"Using device: {device}\")"
   ]
  },
  {
   "cell_type": "code",
   "execution_count": 4,
   "metadata": {},
   "outputs": [],
   "source": [
    "\n",
    "# Create a tensor on the CPU\n",
    "x = torch.randn(3, 3)\n",
    "\n",
    "# Move the tensor to the GPU\n",
    "device = torch.device(\"cuda\" if torch.cuda.is_available() else \"cpu\")\n",
    "x = x.to(device)"
   ]
  },
  {
   "cell_type": "code",
   "execution_count": 5,
   "metadata": {},
   "outputs": [
    {
     "name": "stdout",
     "output_type": "stream",
     "text": [
      "Ejecutando prueba de estrés en la GPU durante 10 segundos...\n",
      "Prueba completada. Multiplicaciones realizadas: 839\n"
     ]
    }
   ],
   "source": [
    "import torch\n",
    "import time\n",
    "\n",
    "def stress_test_gpu(duration_seconds=10):\n",
    "    \"\"\"\n",
    "    Realiza operaciones intensivas en la GPU para probar su rendimiento.\n",
    "\n",
    "    Args:\n",
    "        duration_seconds (int): Duración del test en segundos.\n",
    "    \"\"\"\n",
    "    device = torch.device('cuda' if torch.cuda.is_available() else 'cpu')\n",
    "    if device.type != 'cuda':\n",
    "        print(\"CUDA no está disponible. Por favor, verifica tu instalación de PyTorch con soporte CUDA.\")\n",
    "        return\n",
    "\n",
    "    print(f\"Ejecutando prueba de estrés en la GPU durante {duration_seconds} segundos...\")\n",
    "    \n",
    "    # Tamaño de las matrices (ajusta según la capacidad de tu GPU)\n",
    "    matrix_size = 5000  # Esto crea matrices de 5000x5000\n",
    "    \n",
    "    # Crear matrices aleatorias en la GPU\n",
    "    A = torch.randn(matrix_size, matrix_size, device=device)\n",
    "    B = torch.randn(matrix_size, matrix_size, device=device)\n",
    "    \n",
    "    start_time = time.time()\n",
    "    end_time = start_time + duration_seconds\n",
    "\n",
    "    # Contador de multiplicaciones realizadas\n",
    "    count = 0\n",
    "\n",
    "    while time.time() < end_time:\n",
    "        # Multiplicación de matrices\n",
    "        C = torch.mm(A, B)\n",
    "        \n",
    "        # Opcional: Realizar una operación adicional para aumentar la carga\n",
    "        D = torch.sigmoid(C)\n",
    "        \n",
    "        # Incrementar el contador\n",
    "        count += 1\n",
    "\n",
    "    print(f\"Prueba completada. Multiplicaciones realizadas: {count}\")\n",
    "\n",
    "if __name__ == \"__main__\":\n",
    "    # Duración de la prueba en segundos\n",
    "    test_duration = 10\n",
    "    stress_test_gpu(test_duration)\n"
   ]
  },
  {
   "cell_type": "code",
   "execution_count": null,
   "metadata": {},
   "outputs": [],
   "source": []
  }
 ],
 "metadata": {
  "kernelspec": {
   "display_name": ".venv",
   "language": "python",
   "name": "python3"
  },
  "language_info": {
   "codemirror_mode": {
    "name": "ipython",
    "version": 3
   },
   "file_extension": ".py",
   "mimetype": "text/x-python",
   "name": "python",
   "nbconvert_exporter": "python",
   "pygments_lexer": "ipython3",
   "version": "3.12.3"
  }
 },
 "nbformat": 4,
 "nbformat_minor": 2
}
